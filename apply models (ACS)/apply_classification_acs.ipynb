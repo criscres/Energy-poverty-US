{
 "cells": [
  {
   "cell_type": "markdown",
   "metadata": {
    "nbgrader": {
     "cell_type": "markdown",
     "checksum": "99241281e589ab3c08a8d3b926a35ae1",
     "grade": false,
     "grade_id": "intro",
     "locked": false,
     "schema_version": 2,
     "solution": false
    }
   },
   "source": [
    "# Energy Insecurity in the US: classification prediction\n"
   ]
  },
  {
   "cell_type": "markdown",
   "metadata": {},
   "source": [
    "### Table of Contents\n",
    "I. [Dependent vb selection](#background)<br>\n",
    "II. [Data Cleaning](#load) <br>\n",
    "III. [Classification: Forecasting and Prediction Modeling](#class) <br>\n",
    "IV. [Import ACS & setup dataframe](#ACS)<br>\n",
    "V. [Apply best regression model](#prediction_reg)<br>"
   ]
  },
  {
   "cell_type": "markdown",
   "metadata": {},
   "source": [
    "#### Dependencies"
   ]
  },
  {
   "cell_type": "code",
   "execution_count": 14,
   "metadata": {},
   "outputs": [],
   "source": [
    "import pandas as pd\n",
    "import numpy as np\n",
    "import matplotlib.pyplot as plt\n",
    "import csv\n",
    "import warnings \n",
    "import geopandas as gpd\n",
    "import seaborn as sns\n",
    "from mpl_toolkits.axes_grid1 import make_axes_locatable\n",
    "from sklearn.preprocessing import PolynomialFeatures\n",
    "\n",
    "from sklearn.model_selection import train_test_split\n",
    "\n",
    "from sklearn.metrics import mean_squared_error, r2_score\n",
    "\n",
    "from statsmodels.stats.outliers_influence import variance_inflation_factor\n",
    "from sklearn.metrics import classification_report, confusion_matrix\n",
    "\n",
    "from sklearn.linear_model import LogisticRegression\n",
    "\n",
    "\n",
    "\n",
    "warnings.filterwarnings('ignore')\n",
    "plt.style.use('fivethirtyeight') \n",
    "\n",
    "sns.set(style=\"ticks\", rc={\"axes.labelsize\":36})\n",
    "\n",
    "# Set some parameters\n",
    "plt.rcParams['figure.figsize'] = (9, 7)\n",
    "plt.rcParams['font.size'] = 9\n",
    "np.set_printoptions(4)\n",
    "\n",
    "\n",
    "\n",
    "import recs_EDA\n",
    "#import regression_recs as reg # the split in test/train is found as a function here\n",
    "\n",
    "\n",
    "%matplotlib inline  "
   ]
  },
  {
   "cell_type": "code",
   "execution_count": 15,
   "metadata": {},
   "outputs": [],
   "source": [
    "import classification_recs_sample_weights as classif\n",
    "import compare_classification_models as compare_class\n",
    "\n",
    "#initilize model parameters\n",
    "test_prop = 0.2\n",
    "rand_seed = 5"
   ]
  },
  {
   "cell_type": "markdown",
   "metadata": {},
   "source": [
    "## Dependent vb selection <a id='background'></a>"
   ]
  },
  {
   "cell_type": "markdown",
   "metadata": {},
   "source": [
    "As an introduction to the prediction problems that we will perform, we will apply several methods for two types of prediction:\n",
    "- Classification methods on `SCALEB`: whether a houshold has had to \"forgo basic necessities due to home energy bills\", and the frequency of such an event. We will aggregate this to a binary yes/no response to whether houholds forego basic needs due to energy bills.\n",
    "\n",
    "##### Select Dependent Variable"
   ]
  },
  {
   "cell_type": "code",
   "execution_count": 52,
   "metadata": {},
   "outputs": [],
   "source": [
    "# Select dependent variable\n",
    "#y_name = 'SCALEB' #17% yes - reducing basing necessities due to energy bill\n",
    "#y_name = 'SCALEG' #8.7% yes - keeping home at unhealthy temperatures\n",
    "y_name = 'SCALEE' #8.9% yes - receiving disconnection notice\n",
    "#maybe ENERGYASST\n",
    "\n"
   ]
  },
  {
   "cell_type": "markdown",
   "metadata": {},
   "source": [
    "---\n",
    "\n",
    "## Data Cleaning  <a id='load'></a>\n",
    "We will walk through the data cleaning of RECS for out *preriction problem*. Merging processes do not occur in this section, since the merging of other datasets is done to prepare the ACS for the *resource allocation* problem, and is hence in the `ACS_EDA.ipynb`. Merging processes also occur for the final visualisations in this file.\n"
   ]
  },
  {
   "cell_type": "markdown",
   "metadata": {},
   "source": [
    "##### 1. Import RECS\n"
   ]
  },
  {
   "cell_type": "code",
   "execution_count": 53,
   "metadata": {},
   "outputs": [
    {
     "data": {
      "text/plain": [
       "(18496, 789)"
      ]
     },
     "execution_count": 53,
     "metadata": {},
     "output_type": "execute_result"
    }
   ],
   "source": [
    "year_analysis = 2020\n",
    "path = '/global/scratch/users/cristina_crespo/p1_data/'\n",
    "\n",
    "RECS_raw = pd.read_csv(path + 'RECS/recs2020_public_v5.csv')\n",
    "RECS_raw.shape"
   ]
  },
  {
   "cell_type": "markdown",
   "metadata": {},
   "source": [
    "##### 2. Deal with nominal v ordinal variables, normalize & input missing data"
   ]
  },
  {
   "cell_type": "code",
   "execution_count": 54,
   "metadata": {},
   "outputs": [],
   "source": [
    "X_sub, Y, RECS_norm_param = recs_EDA.vb_transform(RECS_raw) "
   ]
  },
  {
   "cell_type": "markdown",
   "metadata": {},
   "source": [
    "##### 3. Set up results table, set up y variable"
   ]
  },
  {
   "cell_type": "code",
   "execution_count": 55,
   "metadata": {},
   "outputs": [],
   "source": [
    "#Set up summary dataframe to compare models\n",
    "summary_table = pd.DataFrame(columns = ['Model', 'score']) \n",
    "\n",
    "y=Y[y_name].reset_index(drop = True) "
   ]
  },
  {
   "cell_type": "markdown",
   "metadata": {},
   "source": [
    "---\n",
    "\n",
    "## Bootstrapping/feature engineering<a id='class'></a>\n"
   ]
  },
  {
   "cell_type": "markdown",
   "metadata": {},
   "source": [
    "##### 1. Create splits for bootstraps\n",
    "\n",
    "The following cell will be used for all regression models to create the cross validated test/train splits in the data (conserving the same random state and proportion throughout the model comparisons)."
   ]
  },
  {
   "cell_type": "code",
   "execution_count": 56,
   "metadata": {},
   "outputs": [],
   "source": [
    "#divide test/train\n",
    "test_prop = 0.2\n",
    "\n",
    "#set up dep and indep vbs\n",
    "#X = RECS_raw[['HDD30YR_PUB','CDD30YR_PUB','TYPEHUQ','KOWNRENT','YEARMADERANGE','BEDROOMS', 'NWEIGHT']]\n",
    "#y = RECS_raw.TOTALBTU\n",
    "\n",
    "boots = False\n",
    "if boots == True:\n",
    "    #save bootstrap proportions\n",
    "    boot_samples = pd.DataFrame(columns=['boot_num', 'len_Xtrain','prop_18k', 'prop_126M'])\n",
    "    \n",
    "    #drop weights\n",
    "    #drop weight column\n",
    "    weights = X_sub.NWEIGHT\n",
    "    X =  X_sub.drop('NWEIGHT', axis = 1)\n",
    "                   \n",
    "    #split with bootstraps\n",
    "    n = round(math.sqrt(len(X)))\n",
    "    for b in range(n):\n",
    "        \n",
    "        X_train, X_test, y_train, y_test, sw_train, sw_test = train_test_split(X,y, weights, test_size =test_prop, random_state=b)\n",
    "\n",
    "        boot_samples.loc[b, 'boot_num'] = b\n",
    "        boot_samples.loc[b, 'len_Xtrain'] = len(X_train)\n",
    "        boot_samples.loc[b, 'prop_18k'] = len(X_train)/len(X_sub)\n",
    "        boot_samples.loc[b, 'prop_126M'] = X_train.NWEIGHT.sum()/X_sub.NWEIGHT.sum()\n",
    "        #drop weight column\n",
    "        X = X_sub.drop(columns = ['NWEIGHT'], inplace = True)\n",
    "else:\n",
    "    b = 0\n",
    "    #drop weight column\n",
    "    weights = X_sub.NWEIGHT\n",
    "    X = X_sub.drop('NWEIGHT', axis = 1)\n",
    "    X_train, X_test, y_train, y_test, sw_train, sw_test = train_test_split(X,y, weights, test_size =test_prop, random_state=b)\n",
    "\n",
    "\n",
    "apply_weights = True\n",
    "if apply_weights == True:\n",
    "    pass\n",
    "else:\n",
    "    sw_train = np.ones(len(sw_train))\n",
    "    sw_test = np.ones(len(sw_test))\n",
    "         \n",
    "    "
   ]
  },
  {
   "cell_type": "code",
   "execution_count": 57,
   "metadata": {},
   "outputs": [
    {
     "name": "stdout",
     "output_type": "stream",
     "text": [
      "SCALEE\n",
      "0    13446\n",
      "1     1350\n",
      "Name: count, dtype: int64\n",
      "SCALEE\n",
      "0    13446\n",
      "1     1350\n",
      "Name: count, dtype: int64\n"
     ]
    }
   ],
   "source": [
    "#Oversampling and undersampling for the Sub model in order to reduce imbalanced dataset\n",
    "print(y_train.value_counts())\n",
    "\n",
    "os_type = 'none' #smote, under, over, none --> TO DO CANNOT UNCERSAMPLE WITH SAMPLE WEIGHTS?\n",
    "X_train, y_train = classif.resample(X_train, y_train, os_type)\n",
    "\n",
    "print(y_train.value_counts())"
   ]
  },
  {
   "cell_type": "code",
   "execution_count": 58,
   "metadata": {},
   "outputs": [
    {
     "data": {
      "text/plain": [
       "14796"
      ]
     },
     "execution_count": 58,
     "metadata": {},
     "output_type": "execute_result"
    }
   ],
   "source": [
    "len(X_train)"
   ]
  },
  {
   "cell_type": "markdown",
   "metadata": {},
   "source": [
    "##### 2. Feature engineering\n"
   ]
  },
  {
   "cell_type": "code",
   "execution_count": 59,
   "metadata": {},
   "outputs": [],
   "source": [
    "#Feature Engineering \n",
    "feature_engineer = False\n",
    "\n",
    "n = len(X.columns)\n",
    "\n",
    "if feature_engineer == True:\n",
    "    interactions = 1+0.5*n+0.5*n**2 - 1 #intercept\n",
    "    \n",
    "    poly = PolynomialFeatures(interaction_only=True,include_bias = False)\n",
    "    X_train_eng = poly.fit_transform(X_train)\n",
    "    X_test_eng = poly.fit_transform(X_test)\n",
    "    \n",
    "    X_train = pd.DataFrame(X_train_eng, columns = poly.get_feature_names(X_train.columns))\n",
    "    X_test = pd.DataFrame(X_test_eng, columns = poly.get_feature_names(X_test.columns))\n",
    "else:\n",
    "    interactions = n"
   ]
  },
  {
   "cell_type": "markdown",
   "metadata": {},
   "source": [
    "---\n",
    "\n",
    "## Classification: Apply best model <a id='prediction_class'></a>\n",
    "\n",
    "Results AUC of the ROC:\n",
    "- SCALEB\n",
    "GB 0.80\n",
    "log 0.80\n",
    "\n",
    "- SCALEE\n",
    "log 0.79\n",
    "\n",
    "- SCALEG\n",
    "GB 0.72\n",
    "log 0.72"
   ]
  },
  {
   "cell_type": "code",
   "execution_count": 60,
   "metadata": {},
   "outputs": [],
   "source": [
    "df_acs_raw = pd.read_csv(path+'out_final/ct_enhanced_model_application_final.csv')\n",
    "#this file is generated by 2_prep_us_ct_variables.ipynb\n",
    "df_acs = df_acs_raw.drop(columns = ['Unnamed: 0', 'total_population', 'state', 'county', 'tract'])"
   ]
  },
  {
   "cell_type": "code",
   "execution_count": 61,
   "metadata": {
    "scrolled": true
   },
   "outputs": [
    {
     "data": {
      "text/plain": [
       "82907"
      ]
     },
     "execution_count": 61,
     "metadata": {},
     "output_type": "execute_result"
    }
   ],
   "source": [
    "len(df_acs)"
   ]
  },
  {
   "cell_type": "code",
   "execution_count": 62,
   "metadata": {},
   "outputs": [],
   "source": [
    "#fill in missing value\n",
    "df_acs.loc[df_acs['Average year built'].isna(), 'Average year built'] = df_acs['Average year built'].median()"
   ]
  },
  {
   "cell_type": "code",
   "execution_count": 63,
   "metadata": {},
   "outputs": [
    {
     "data": {
      "text/plain": [
       "0"
      ]
     },
     "execution_count": 63,
     "metadata": {},
     "output_type": "execute_result"
    }
   ],
   "source": [
    "df_acs.isna().sum().sum()"
   ]
  },
  {
   "cell_type": "code",
   "execution_count": 64,
   "metadata": {},
   "outputs": [],
   "source": [
    "def align_features(df_acs, X_train):\n",
    "    \"\"\"\n",
    "    Aligns df_acs to have the same column names, order, and data types as X_train.\n",
    "    \n",
    "    Parameters:\n",
    "    df_acs (pd.DataFrame): The new data to apply the model to.\n",
    "    X_train (pd.DataFrame): The training data used to fit the model.\n",
    "    \n",
    "    Returns:\n",
    "    pd.DataFrame: Aligned df_acs with column names, order, and dtypes matching X_train.\n",
    "    \"\"\"\n",
    "\n",
    "    # Rename and reorder columns to match X_train\n",
    "    df_acs.columns = X_train.columns\n",
    "    df_acs = df_acs[X_train.columns]\n",
    "\n",
    "    # Convert data types to match\n",
    "    for col in X_train.columns:\n",
    "        expected_dtype = X_train[col].dtype\n",
    "        actual_dtype = df_acs[col].dtype\n",
    "        if expected_dtype != actual_dtype:\n",
    "            df_acs[col] = df_acs[col].astype(expected_dtype)\n",
    "\n",
    "    # Final assertions to confirm match\n",
    "    assert list(df_acs.columns) == list(X_train.columns), \"Column names do not match\"\n",
    "    assert all(df_acs.dtypes == X_train.dtypes), \"Column types do not match\"\n",
    "\n",
    "    return df_acs"
   ]
  },
  {
   "cell_type": "code",
   "execution_count": 65,
   "metadata": {},
   "outputs": [],
   "source": [
    "df_acs = align_features(df_acs, X_train)"
   ]
  },
  {
   "cell_type": "code",
   "execution_count": 66,
   "metadata": {
    "scrolled": true
   },
   "outputs": [
    {
     "name": "stdout",
     "output_type": "stream",
     "text": [
      "SCALEE\n",
      "Logistic Regression Performance:\n",
      "               precision    recall  f1-score   support\n",
      "\n",
      "           0       0.95      0.87      0.91 22845003.658389173\n",
      "           1       0.25      0.49      0.33 2028675.9850189607\n",
      "\n",
      "    accuracy                           0.84 24873679.643408135\n",
      "   macro avg       0.60      0.68      0.62 24873679.643408135\n",
      "weighted avg       0.89      0.84      0.86 24873679.643408135\n",
      "\n",
      "[[19826267.5425  3018736.1159]\n",
      " [ 1030183.2352   998492.7498]]\n"
     ]
    }
   ],
   "source": [
    "#Apply threshhold used in training \n",
    "thresh = 0.7\n",
    "\n",
    "if y_name == 'SCALEG': #Frequency of reducing or forgoing basic necessities due to home energy bill\n",
    "\n",
    "    print('SCALEG')\n",
    "    pred_name = \"SCALEG_pred_th=0.7\"\n",
    "    odds_name = \"SCALEG_odds\"\n",
    "\n",
    "    #gen model\n",
    "    logreg, summary_table, y_pred_logistic = classif.logistic_fit(X_train, y_train, X_test, y_test, sw_train, sw_test, summary_table, thresh)\n",
    "    #apply model\n",
    "    y_pred = logreg.predict(df_acs) \n",
    "    y_odd = logreg.predict_proba(df_acs)\n",
    "    \n",
    "    #apply threshold\n",
    "    if thresh != 0.5:\n",
    "        y_predict_prob_class_1 = y_odd[:,1]\n",
    "        y_pred = [1 if p >= thresh else 0 for p in y_predict_prob_class_1]\n",
    "\n",
    "    #save outputs\n",
    "    df_acs[odds_name]=y_odd[:,1] \n",
    "    df_acs[pred_name]=y_pred\n",
    "    \n",
    "elif y_name == 'SCALEB':  #Frequency of keeping home at unhealthy temperature\n",
    "    print('SCALEB')\n",
    "    pred_name = \"SCALEB_pred_th=0.7\"\n",
    "    odds_name = \"SCALEB_odds\"\n",
    "    \n",
    "    #gen model\n",
    "    logreg, summary_table, y_pred_logistic = classif.logistic_fit(X_train, y_train, X_test, y_test, sw_train, sw_test, summary_table, thresh)\n",
    "    #apply model\n",
    "    y_pred = logreg.predict(df_acs) \n",
    "    y_odd = logreg.predict_proba(df_acs)\n",
    "    \n",
    "    #apply threshold\n",
    "    if thresh != 0.5:\n",
    "        y_predict_prob_class_1 = y_odd[:,1]\n",
    "        y_pred = [1 if p >= thresh else 0 for p in y_predict_prob_class_1]\n",
    "\n",
    "    #save outputs\n",
    "    df_acs[odds_name]=y_odd[:,1] \n",
    "    df_acs[pred_name]=y_pred\n",
    "    \n",
    "elif y_name == 'SCALEE': #Frequency of receiving disconnect notice\n",
    "    print('SCALEE')\n",
    "    pred_name = \"SCALEE_pred_th=0.7\"\n",
    "    odds_name = \"SCALEE_odds\"\n",
    "    \n",
    "    #gen model\n",
    "    logreg, summary_table, y_pred_logistic = classif.logistic_fit(X_train, y_train, X_test, y_test, sw_train, sw_test, summary_table, thresh)\n",
    "    #apply model\n",
    "    y_pred = logreg.predict(df_acs) \n",
    "    y_odd = logreg.predict_proba(df_acs)\n",
    "    \n",
    "    #apply threshold\n",
    "    if thresh != 0.5:\n",
    "        y_predict_prob_class_1 = y_odd[:,1]\n",
    "        y_pred = [1 if p >= thresh else 0 for p in y_predict_prob_class_1]\n",
    "    \n",
    "    #save outputs\n",
    "    df_acs[odds_name]=y_odd[:,1] \n",
    "    df_acs[pred_name]=y_pred\n",
    "    \n",
    "else:\n",
    "    pass\n"
   ]
  },
  {
   "cell_type": "code",
   "execution_count": 67,
   "metadata": {},
   "outputs": [
    {
     "data": {
      "text/plain": [
       "82907"
      ]
     },
     "execution_count": 67,
     "metadata": {},
     "output_type": "execute_result"
    }
   ],
   "source": [
    "len(df_acs)"
   ]
  },
  {
   "cell_type": "markdown",
   "metadata": {},
   "source": [
    "### Save csv"
   ]
  },
  {
   "cell_type": "code",
   "execution_count": 68,
   "metadata": {},
   "outputs": [],
   "source": [
    "df_acs_final = df_acs.join(df_acs_raw[['state', 'county', 'tract']], how='inner') \n",
    "df_acs_final[['state', 'county', 'tract', odds_name, pred_name]].to_csv(path+'out_final/metric_predictions/'+y_name+'_predict_ct.csv')  "
   ]
  },
  {
   "cell_type": "code",
   "execution_count": 69,
   "metadata": {},
   "outputs": [
    {
     "data": {
      "text/plain": [
       "82907"
      ]
     },
     "execution_count": 69,
     "metadata": {},
     "output_type": "execute_result"
    }
   ],
   "source": [
    "len(df_acs_final)"
   ]
  },
  {
   "cell_type": "code",
   "execution_count": 51,
   "metadata": {},
   "outputs": [
    {
     "data": {
      "text/plain": [
       "(array([  423.,  2899.,  9883., 12978., 17005., 16822., 13098.,  7325.,\n",
       "         2304.,   170.]),\n",
       " array([0.0485, 0.1301, 0.2117, 0.2932, 0.3748, 0.4564, 0.538 , 0.6195,\n",
       "        0.7011, 0.7827, 0.8642]),\n",
       " <BarContainer object of 10 artists>)"
      ]
     },
     "execution_count": 51,
     "metadata": {},
     "output_type": "execute_result"
    },
    {
     "data": {
      "image/png": "[encoded data removed]",
      "text/plain": [
       "<Figure size 900x700 with 1 Axes>"
      ]
     },
     "metadata": {},
     "output_type": "display_data"
    }
   ],
   "source": [
    "plt.hist(y_odd[:,1])"
   ]
  },
  {
   "cell_type": "code",
   "execution_count": null,
   "metadata": {},
   "outputs": [],
   "source": []
  }
 ],
 "metadata": {
  "kernelspec": {
   "display_name": "Python 3 (ipykernel)",
   "language": "python",
   "name": "python3"
  },
  "language_info": {
   "codemirror_mode": {
    "name": "ipython",
    "version": 3
   },
   "file_extension": ".py",
   "mimetype": "text/x-python",
   "name": "python",
   "nbconvert_exporter": "python",
   "pygments_lexer": "ipython3",
   "version": "3.11.7"
  }
 },
 "nbformat": 4,
 "nbformat_minor": 4
}
