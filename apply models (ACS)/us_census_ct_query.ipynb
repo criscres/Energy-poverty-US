{
 "cells": [
  {
   "cell_type": "markdown",
   "metadata": {},
   "source": [
    "# Access & download US Census data \n",
    "\n",
    "\n"
   ]
  },
  {
   "cell_type": "code",
   "execution_count": 1,
   "metadata": {},
   "outputs": [],
   "source": [
    "# import libraries\n",
    "\n",
    "import requests\n",
    "import json\n",
    "import pandas as pd\n",
    "from pathlib import Path\n",
    "import ast\n",
    "from io import StringIO"
   ]
  },
  {
   "cell_type": "markdown",
   "metadata": {},
   "source": [
    "## 1) Prep Census query\n",
    "2020 data"
   ]
  },
  {
   "cell_type": "code",
   "execution_count": 2,
   "metadata": {},
   "outputs": [],
   "source": [
    "def get_all_variable_table_df(year):\n",
    "    variable_table_url = f'https://api.census.gov/data/{year}/acs/acs5/variables.html' #f'https://api.census.gov/data/{year}/acs/acs1/variables.html'\n",
    "    v_table = pd.read_html(variable_table_url)\n",
    "    return v_table"
   ]
  },
  {
   "cell_type": "code",
   "execution_count": 3,
   "metadata": {},
   "outputs": [],
   "source": [
    "def get_variable_df(year, v_table):\n",
    "    variable_df = pd.DataFrame(v_table[0])\n",
    "    variable_df['Label'].replace({\"!!\": \" \", \":\": \"\"}, regex=True, inplace=True)\n",
    "\n",
    "    return variable_df"
   ]
  },
  {
   "cell_type": "code",
   "execution_count": 4,
   "metadata": {},
   "outputs": [],
   "source": [
    "def get_variable_index(variable_table, start_label, end_label):\n",
    "    start_index = variable_table[variable_table['Label'] == start_label].index[0]\n",
    "    \n",
    "    if end_label == 'Estimate Total Hispanic or Latino':\n",
    "        end_index = variable_table[variable_table['Label'] == end_label].index[1] # second instance of repeated label is the one we want\n",
    "    else:\n",
    "        end_index = variable_table[variable_table['Label'] == end_label].index[0]\n",
    "\n",
    "    return start_index, end_index + 1"
   ]
  },
  {
   "cell_type": "code",
   "execution_count": 5,
   "metadata": {},
   "outputs": [],
   "source": [
    "def get_variable_names(variable_table, indeces):\n",
    "    variables_names = \",\".join(variable_table.iloc[indeces[0]: indeces[1]]['Name'].values)\n",
    "    return variables_names"
   ]
  },
  {
   "cell_type": "code",
   "execution_count": 6,
   "metadata": {},
   "outputs": [],
   "source": [
    "def get_query_url(year, variables, st):\n",
    "    # API Reference: https://www.census.gov/data/developers/guidance/api-user-guide.Example_API_Queries.html\n",
    "    #https://api.census.gov/data/2020/acs/acs5/examples.html\n",
    "    \n",
    "    \n",
    "    host = 'https://api.census.gov/data'\n",
    "    year = f'/{year}'\n",
    "    dataset_acronym = '/acs/acs5'\n",
    "    g = '?get='\n",
    "    #location = '&for=block%20group:*&in=state:'+ st+'&in=county:*&in=tract:*' #cbg\n",
    "    location = '&for=tract:*&in=state:'+ st  #tract\n",
    "    usr_key = f\"&key=d80e6cde028d24646d48637958f273fa5bc19b3b\" #api_key\n",
    "\n",
    "    query_url = f\"{host}{year}{dataset_acronym}{g}{variables}{location}{usr_key}\"\n",
    "\n",
    "    return query_url"
   ]
  },
  {
   "cell_type": "code",
   "execution_count": 7,
   "metadata": {},
   "outputs": [],
   "source": [
    "def get_query_text(query_url):\n",
    "    response = requests.get(query_url)\n",
    "    return response.text"
   ]
  },
  {
   "cell_type": "code",
   "execution_count": 8,
   "metadata": {},
   "outputs": [],
   "source": [
    "def get_values_from_response(response_text):\n",
    "    #values = [int(i) for i in ast.literal_eval(response_text)[1][:-1]] \n",
    "    \n",
    "    string_response = StringIO(response_text)\n",
    "    df = pd.read_csv(string_response, sep=\",\")\n",
    "    df = df.replace('[\\[, \\], \"]','', regex=True)\n",
    "    df.columns = df.columns.str.replace('[\\[, \\], \"]','')\n",
    "    \n",
    "    return df"
   ]
  },
  {
   "cell_type": "code",
   "execution_count": 9,
   "metadata": {},
   "outputs": [],
   "source": [
    "def get_labels(variable_df, indeces):\n",
    "    labels  = []\n",
    "    for idx in indeces:\n",
    "        lab = [i.replace(\"!!\", \" \").replace(\":\", \"\") for i in variable_df.iloc[idx[0]:idx[1]]['Label'].values]\n",
    "        labels.append(lab)\n",
    "    flat_labels = [item for sublist in labels for item in sublist]\n",
    "    \n",
    "    return flat_labels"
   ]
  },
  {
   "cell_type": "markdown",
   "metadata": {},
   "source": [
    "## 2) Variable Selection\n",
    "\n",
    "#householder gender and dependency ratios\n",
    "start_label = 'Estimate Total Male'\n",
    "end_label = 'Estimate Total Female 85 years and over'\n",
    "\n",
    "#num of units in structure B25024\n",
    "'Estimate Total 1, detached'\n",
    "'Estimate Total Mobile home'\n",
    "\n",
    "\n",
    "#tenure B25008\n",
    "'Estimate Total Owner occupied'\n",
    "'Estimate Total Renter occupied'\n",
    "    \n",
    "\n",
    "#hispanic or lation or others: B03002 --> dont use #race B02001\n",
    "'Estimate Total Not Hispanic or Latino White alone'\n",
    "'Estimate Total Hispanic or Latino'\n",
    "\n",
    "#year structure built B25034\n",
    "'Estimate Total Built 2014 or later'\n",
    "'Estimate Median year structure built'\n",
    "\n",
    "#year moved in B25038\n",
    "'Estimate Total Owner occupied Moved in 2019 or later'\n",
    "'Estimate Median year householder moved into unit -- Total'\n",
    "\n",
    "#num bedrooms B25041\n",
    "'Estimate Total No bedroom'\n",
    "'Estimate Total 5 or more bedrooms'\n",
    "\n",
    "#num rooms B25017\n",
    "'Estimate Total 1 room'\n",
    "'Estimate Median number of rooms'\n",
    "\n",
    "#primary heating fuel B25040\n",
    "'Estimate Total Utility gas'\n",
    "'Estimate Total No fuel used'\n",
    "\n",
    "\n",
    "#num household members B11016\n",
    "'Estimate Total Family households 2-person household' \n",
    "'Estimate Total Nonfamily households 7-or-more person household'\n",
    "        \n",
    "\n",
    "#hh income in past year B19001\n",
    "'Estimate Total Less than $10,000'\n",
    "'Estimate Total $200,000 or more'\n",
    "'Estimate Median household income in the past 12 months (in 2020 inflation-adjusted dollars)'"
   ]
  },
  {
   "cell_type": "code",
   "execution_count": 10,
   "metadata": {},
   "outputs": [],
   "source": [
    "#VARIABLE SELECTION\n",
    "#check --> https://api.census.gov/data/2020/acs/acs5/variables.html\n",
    "\n",
    "#householder gender and dependency ratios\n",
    "#num of units in structure B25024\n",
    "#tenure B03002\n",
    "#hispanic or lation or others: B03002 --> dont use #race B02001\n",
    "#year structure built B25034 --> do we need this #year moved in B25038? \n",
    "# num bedrooms B25041\n",
    "#num rooms B25017\n",
    "#primary heating fuel B25040\n",
    "#num household members B11016\n",
    "#hh income in past year B19001\n",
    "\n",
    "\n",
    "start_label = ['Estimate Total Male', 'Estimate Total 1, detached', 'Estimate Total Owner occupied', 'Estimate Total Not Hispanic or Latino White alone',\n",
    "               'Estimate Total Built 2014 or later',  'Estimate Total No bedroom', 'Estimate Total 1 room', 'Estimate Total Utility gas', \n",
    "               'Estimate Total Family households 2-person household','Estimate Total Less than $10,000',\n",
    "               'Estimate Median household income in the past 12 months (in 2020 inflation-adjusted dollars)',\n",
    "               'Estimate Total In households Householder Male'] #'Estimate Total Owner occupied Moved in 2019 or later',\n",
    "\n",
    "end_label = ['Estimate Total Female 85 years and over', 'Estimate Total Mobile home', 'Estimate Total Renter occupied',\n",
    "             'Estimate Total Hispanic or Latino', 'Estimate Median year structure built',  'Estimate Total 5 or more bedrooms',\n",
    "             'Estimate Median number of rooms', 'Estimate Total No fuel used', 'Estimate Total Nonfamily households 7-or-more person household',\n",
    "             'Estimate Total $200,000 or more', 'Estimate Median household income in the past 12 months (in 2020 inflation-adjusted dollars)',\n",
    "             'Estimate Total In households Householder Female'] #'Estimate Median year householder moved into unit -- Total',\n"
   ]
  },
  {
   "cell_type": "code",
   "execution_count": 11,
   "metadata": {},
   "outputs": [],
   "source": [
    "#prep variables for query\n",
    "year = 2020\n",
    "#html table for 2020 variables\n",
    "v_table = get_all_variable_table_df(year)"
   ]
  },
  {
   "cell_type": "code",
   "execution_count": 12,
   "metadata": {},
   "outputs": [],
   "source": [
    "#check --> https://api.census.gov/data/2020/acs/acs5/variables.html --> should have 27893 rows\n",
    "var_df = get_variable_df(year, v_table)\n",
    "#var_df.to_csv('../../data/in/acs5_2020_raw_ct/ACS5_2020_vb_code_labels.csv')\n",
    "\n",
    "#get selected variable\n",
    "#loop for all vbs\n",
    "v_index = []\n",
    "v_names = []\n",
    "for start, end in zip(start_label, end_label):\n",
    "    variable_indeces = get_variable_index(var_df, start, end)\n",
    "    variables = get_variable_names(var_df, variable_indeces) \n",
    "    \n",
    "    #save for dictionary\n",
    "    v_index.append(variable_indeces)\n",
    "    v_names.append(variables)\n",
    "\n",
    "#convert to one string\n",
    "v_names_all = ','.join(v_names)\n",
    "#replace emptuy strings\n",
    "v_names_all = v_names_all.replace(',,', ',')\n",
    "#split to do 50 vb queris at a time (max num of queries)\n",
    "v_names_separate_list = v_names_all.split(',')\n",
    "name_chunks = [v_names_separate_list[x:x+50] for x in range(0, len(v_names_separate_list), 50)]"
   ]
  },
  {
   "cell_type": "markdown",
   "metadata": {},
   "source": [
    "## 3) Query census\n",
    "\n",
    "For all states and all CTs"
   ]
  },
  {
   "cell_type": "code",
   "execution_count": 13,
   "metadata": {},
   "outputs": [
    {
     "name": "stdout",
     "output_type": "stream",
     "text": [
      "72\n"
     ]
    },
    {
     "name": "stderr",
     "output_type": "stream",
     "text": [
      "/tmp/ipykernel_17046/2259058974.py:7: FutureWarning: The default value of regex will change from True to False in a future version.\n",
      "  df.columns = df.columns.str.replace('[\\[, \\], \"]','')\n"
     ]
    },
    {
     "name": "stdout",
     "output_type": "stream",
     "text": [
      "72\n"
     ]
    },
    {
     "name": "stderr",
     "output_type": "stream",
     "text": [
      "/tmp/ipykernel_17046/2259058974.py:7: FutureWarning: The default value of regex will change from True to False in a future version.\n",
      "  df.columns = df.columns.str.replace('[\\[, \\], \"]','')\n"
     ]
    },
    {
     "name": "stdout",
     "output_type": "stream",
     "text": [
      "72\n"
     ]
    },
    {
     "name": "stderr",
     "output_type": "stream",
     "text": [
      "/tmp/ipykernel_17046/2259058974.py:7: FutureWarning: The default value of regex will change from True to False in a future version.\n",
      "  df.columns = df.columns.str.replace('[\\[, \\], \"]','')\n"
     ]
    }
   ],
   "source": [
    "#loop through states to get data\n",
    "state_lst = ['01', '02', '04', '05', '06', '08', '09', '10','11', '12',\n",
    "             '13', '15', '16', '17', '18', '19', '20', '21', '22',\n",
    "            '23', '24', '25', '26', '27', '28', '29', '30', '31',\n",
    "            '32', '33', '34', '35', '36', '37', '38', '39', '40',\n",
    "            '41', '42', '44', '45', '46', '47', '48', '49', '50',\n",
    "            '51', '53', '54', '55', '56', '72']\n",
    "\n",
    "\n",
    "#launch query\n",
    "for st in state_lst:\n",
    "    df_summary = pd.DataFrame(columns=['state','county','tract'])\n",
    "    for ch in name_chunks:\n",
    "        #convert to one string\n",
    "        vbs = ','.join(ch)\n",
    "        print(st)\n",
    "        \n",
    "        #query\n",
    "        query_url = get_query_url(year, vbs, st) \n",
    "        response_text = get_query_text(query_url)\n",
    "        \n",
    "        #save data into one df every 50 vbs\n",
    "        vals = get_values_from_response(response_text)\n",
    "        #labels = get_labels(var_df, variable_indeces)\n",
    "        #dic_labels = dict(zip(v_names_separate_list, labels)) \n",
    "        #vals.rename(columns=dic_labels, inplace = True)\n",
    "        #print(dic_labels)\n",
    "        \n",
    "        #merge dataframes\n",
    "        df_summary = df_summary.merge(vals, on=['state','county','tract'], how='outer') \n",
    "\n",
    "    #rename variables from code to label, so that we can understand them\n",
    "    labels = get_labels(var_df, v_index)\n",
    "    dic_labels = dict(zip(v_names_all.split(','), labels)) #based on all variables dict\n",
    "    df_summary.rename(columns=dic_labels, inplace = True)\n",
    "    df_summary.to_csv('/global/scratch/users/cristina_crespo/p1_data/in_us_census/acs5_2020_raw_ct/ACS5_2020_'+st+'_ct.csv')\n",
    "    \n"
   ]
  },
  {
   "cell_type": "code",
   "execution_count": 14,
   "metadata": {},
   "outputs": [
    {
     "data": {
      "text/plain": [
       "140"
      ]
     },
     "execution_count": 14,
     "metadata": {},
     "output_type": "execute_result"
    }
   ],
   "source": [
    "len(df_summary.columns.to_list()) - 6 #state, county, tract % unnamed"
   ]
  },
  {
   "cell_type": "markdown",
   "metadata": {},
   "source": [
    "## 4) Save all state outputs into one csv\n",
    "\n",
    "2020 data"
   ]
  },
  {
   "cell_type": "code",
   "execution_count": null,
   "metadata": {},
   "outputs": [],
   "source": [
    "#Read census data \n",
    "#loop through states to get data\n",
    "state_lst = ['01', '02', '04', '05', '06', '08', '09', '10','11', '12',\n",
    "             '13', '15', '16', '17', '18', '19', '20', '21', '22',\n",
    "            '23', '24', '25', '26', '27', '28', '29', '30', '31',\n",
    "            '32', '33', '34', '35', '36', '37', '38', '39', '40',\n",
    "            '41', '42', '44', '45', '46', '47', '48', '49', '50',\n",
    "            '51', '53', '54', '55', '56', '72']\n",
    "\n",
    "print(len(state_lst))\n",
    "dfs= []\n",
    "#launch query\n",
    "for st in state_lst: # to do add other functions\n",
    "    print(st)\n",
    "    df_summary_raw = pd.read_csv('/global/scratch/users/cristina_crespo/p1_data/in_us_census/acs5_2020_raw_ct/ACS5_2020_'+st+'_ct.csv')\n",
    "    df_summary = df_summary_raw.loc[:,~df_summary_raw.columns.str.startswith('Unnamed')]\n",
    "    df_summary = refor.dep_ratios(df_summary)\n",
    "    df_summary = refor.avg_hh_members(df_summary)\n",
    "    df_summary = refor.avg_income(df_summary)\n",
    "    df_summary = refor.hh_gender(df_summary)\n",
    "    df_summary = refor.unit_str(df_summary)\n",
    "    df_summary = refor.tenure_type(df_summary)\n",
    "    df_summary = refor.race_ethn(df_summary)\n",
    "    df_summary = refor.yr_built(df_summary)\n",
    "    df_summary = refor.num_bedrooms(df_summary)\n",
    "    df_summary = refor.num_rooms(df_summary)\n",
    "    df_summary = refor.fuel_heat(df_summary)\n",
    "    df_summary = refor.total_pop(df_summary)\n",
    "    \n",
    "    #subset to variables of interest in correct format\n",
    "    df_summary = refor.subset_columns(df_summary)\n",
    "    #append states\n",
    "    dfs.append(df_summary)\n",
    "    \n",
    "    \n",
    "data_f = pd.concat(dfs, ignore_index = True, sort=False)"
   ]
  },
  {
   "cell_type": "code",
   "execution_count": null,
   "metadata": {},
   "outputs": [],
   "source": [
    "data_f.to_csv(path +'in_us_census/acs5_2020_vbs_per_ct.csv')"
   ]
  }
 ],
 "metadata": {
  "kernelspec": {
   "display_name": "Python 3 (ipykernel)",
   "language": "python",
   "name": "python3"
  },
  "language_info": {
   "codemirror_mode": {
    "name": "ipython",
    "version": 3
   },
   "file_extension": ".py",
   "mimetype": "text/x-python",
   "name": "python",
   "nbconvert_exporter": "python",
   "pygments_lexer": "ipython3",
   "version": "3.11.7"
  }
 },
 "nbformat": 4,
 "nbformat_minor": 4
}
